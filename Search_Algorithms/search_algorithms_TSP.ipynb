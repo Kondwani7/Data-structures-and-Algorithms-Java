{
  "cells": [
    {
      "cell_type": "markdown",
      "metadata": {
        "id": "IYaB3eBVe6w6"
      },
      "source": [
        "# __Search Algorithms: The Travelling Salesman Problem__\n",
        "---\n",
        "\n",
        "The [travelling salesman problem (TSP)](https://en.wikipedia.org/wiki/Travelling_salesman_problem) is one of the most famous and most studied problems in computer science. The main reason is because of its computational complexity (it belongs to the [NP-hard](https://en.wikipedia.org/wiki/NP-hardness) category). Since 1800s, when its believed that the physicist and mathematician [W.R. Hamilton](https://en.wikipedia.org/wiki/William_Rowan_Hamilton) formulated the problem for the first time, nobody has ever discovered an algorithm able to find the optimal solution efficiently. If someone eventually does, this could have profound implications in one of the current [major unresolved problems](https://en.wikipedia.org/wiki/Millennium_Prize_Problems) in mathematics and computer science: [P vs NP](https://www.youtube.com/watch?v=EHp4FPyajKQ). This is the main reason why it's probably the best problem to test how different searching algorithms perform.\n",
        "\n",
        "The formulation is very simple and everyone can understand it. Imagine that you are an old-time salesman ([not a modern one](https://xkcd.com/399/)) and you want to advertise and sell your product around several cities in your country or region. The problem is the following:\n",
        ">Given a list of cities and the distances between each pair of cities, what is the shortest possible route that visits each city exactly once and returns to the origin city?.\n",
        "\n",
        "Seems easy, right? You can try your best in [this website application](http://www.math.uwaterloo.ca/tsp/app/diy.html) from the University of Waterloo, where they also have a funny alternative version with the [shortest pub crawl](http://www.math.uwaterloo.ca/tsp/uk/index.html) around all the pubs in the UK.\n",
        "\n",
        "As you can imagine, this is such a simple and general optimisation problem that many other specific problems from other areas, ranging from [transportation and logistics](https://en.wikipedia.org/wiki/Vehicle_routing_problem) to [biology](https://www.wired.com/2011/04/cells-math-problem/). Thus, algorithms that perform well in the abstract TSP problem could eventually help in all these other areas as well."
      ]
    },
    {
      "cell_type": "markdown",
      "metadata": {
        "id": "pZYhe1sXe6w7"
      },
      "source": [
        "## Problem Formulation\n",
        "---\n",
        "\n",
        "The first step in any A.I. problem is to provide a good problem [abstraction](https://en.wikipedia.org/wiki/Abstraction_(computer_science)). Understanding what is relevant and what is meaningless in our problem, how it should be formulated in a way that a computer can operate with and how a solution should look like, are the most basic foundations. Any error in here and we might be overcomplicating the problem - potentially increasing inefficiencies - or even worse, we might get a wrong solution.\n",
        "\n",
        "In our case we are going to attempt solving the TSP problem by representing the cities as 2D points sitting on a 100x100 canvas. In Python we are going to represent this by the variable `Cities` that will be a list of points, each with their corresponding `(x,y)` coordinates:"
      ]
    },
    {
      "cell_type": "code",
      "execution_count": 1,
      "metadata": {
        "id": "9QT1DgOPe6w7"
      },
      "outputs": [],
      "source": [
        "# List of 7 cities on a 100x100 canvas\n",
        "Cities = [(5,60),(14,32),(17,65),(32,28),(47,18),(56,53),(92,81)]"
      ]
    },
    {
      "cell_type": "code",
      "source": [
        "len(Cities)"
      ],
      "metadata": {
        "colab": {
          "base_uri": "https://localhost:8080/"
        },
        "id": "Zr9Btn3VfPYE",
        "outputId": "58ec3b2c-5d34-4972-dce8-0c846178f7e7"
      },
      "execution_count": 5,
      "outputs": [
        {
          "output_type": "execute_result",
          "data": {
            "text/plain": [
              "7"
            ]
          },
          "metadata": {},
          "execution_count": 5
        }
      ]
    },
    {
      "cell_type": "markdown",
      "metadata": {
        "id": "qRWuXLife6w8"
      },
      "source": [
        "Our particular TSP problem consist in finding the overall shortest path that joins all points of the canvas. Therefore, a candidate solution of the 7 cities above, could any [permutation](https://en.wikipedia.org/wiki/Permutation) of the numbers from 0 to 6. We will represent a candidate in the variable `Trip`, consisting in a list of integers from 0 to 6 where the first number is repeated at the last position (remember it must be a closed loop). For example, the following one:"
      ]
    },
    {
      "cell_type": "code",
      "execution_count": 2,
      "metadata": {
        "id": "HyzuOO5Ne6w8"
      },
      "outputs": [],
      "source": [
        "# Candidate solution\n",
        "Trip = [3,2,6,1,0,5,4,3]"
      ]
    },
    {
      "cell_type": "markdown",
      "metadata": {
        "id": "rdKXl996e6w8"
      },
      "source": [
        "Having a visual feedback is always a good idea, not only for understanding the problem better, but also as a double check that what we are doing makes sense and there is no flaw in our formulation. Thus, it is then very handy to have a function that plots our candidate solution alongside with the set of cities defined. It will be particularly useful when double-checking that optimised solution found by our search algorithm makes sense to us.\n",
        "\n",
        "To do this job the `matplotlib`, a powerful and popular python library for visualization, provides all the resources we need. We will need to pass as inputs the `Cities` variable, with the x-y coordinates, and the candidate solution `Trip`. They key parts of the function below are basically plotting circles with a number in it. Then, in a layer below, plotting the segments connecting the cities according to the `Trip` variable."
      ]
    },
    {
      "cell_type": "code",
      "execution_count": 10,
      "metadata": {
        "id": "KtBJVZmXe6w8"
      },
      "outputs": [],
      "source": [
        "# Plot the cities\n",
        "import matplotlib.pyplot as plt\n",
        "\n",
        "def plot_TSP(Cities, Trip, title=None):\n",
        "    \"\"\"\n",
        "    Plots a TSP solution in a 100 x 100 canvas\n",
        "\n",
        "    Arguments:\n",
        "    ----------\n",
        "    Cities : List of points (x,y) within 100*100\n",
        "    Trip : Vector with the ordered sequence of cities\n",
        "    title : Text for the title\n",
        "    \"\"\"\n",
        "\n",
        "    fig, ax = plt.subplots(figsize=(6,6))\n",
        "\n",
        "    # Set parameter of the axes limit and aesthetics\n",
        "    ax.set_xlim(0, 100)\n",
        "    ax.set_ylim(0, 100)\n",
        "    ax.tick_params(labeltop=True, labelright=True)\n",
        "    ax.xaxis.set_ticks_position('both')\n",
        "    ax.yaxis.set_ticks_position('both')\n",
        "\n",
        "    # Plot the cities (circles)\n",
        "    for i,p in enumerate(Cities):\n",
        "\n",
        "        # Get the coordinates of each point\n",
        "        x,y = p\n",
        "\n",
        "        # Create and add the circles to the canvas\n",
        "        circle = plt.Circle((x, y), radius=4)\n",
        "        ax.add_patch(circle)\n",
        "\n",
        "        # Add the labels within the circle\n",
        "        ax.annotate(i, xy=(x, y), fontsize=12, va=\"center\", ha=\"center\", color=\"white\")\n",
        "\n",
        "    # Plot the segments (Trip)\n",
        "    for i in range(len(Trip)-1):\n",
        "\n",
        "        # For each pair, get the coordinates from List\n",
        "        p1 = Cities[Trip[i]]\n",
        "        p2 = Cities[Trip[i+1]]\n",
        "\n",
        "        # Create a vector for Xs and Ys\n",
        "        X = [p1[0],p2[0]]\n",
        "        Y = [p1[1],p2[1]]\n",
        "\n",
        "        # Plot one line joining each pair\n",
        "        ax.plot(X, Y, color=\"red\", lw=3, zorder=0)\n",
        "\n",
        "    # Add a title in the plot\n",
        "    if title != None:\n",
        "        fig.suptitle(title, fontsize=16)\n",
        "\n",
        "    plt.show()"
      ]
    },
    {
      "cell_type": "code",
      "source": [
        "#path 1\n",
        "Trip = [3,2,6,1,0,5,4,3]"
      ],
      "metadata": {
        "id": "eDOphAsogUA_"
      },
      "execution_count": null,
      "outputs": []
    },
    {
      "cell_type": "markdown",
      "metadata": {
        "id": "2coAf6Lye6w8"
      },
      "source": [
        "We can simply use the function like this:"
      ]
    },
    {
      "cell_type": "code",
      "execution_count": 11,
      "metadata": {
        "colab": {
          "base_uri": "https://localhost:8080/",
          "height": 582
        },
        "id": "da6haDpRe6w9",
        "outputId": "b7986331-daf4-4518-a578-d74b804ab3d9"
      },
      "outputs": [
        {
          "output_type": "display_data",
          "data": {
            "text/plain": [
              "<Figure size 600x600 with 1 Axes>"
            ],
            "image/png": "[encoded data removed]"
          },
          "metadata": {}
        }
      ],
      "source": [
        "plot_TSP(Cities=Cities, Trip=Trip, title=\"TSP: One random solution\")"
      ]
    },
    {
      "cell_type": "markdown",
      "metadata": {
        "id": "zaKpS998e6w9"
      },
      "source": [
        "The last necessary element we need is a way to compute the distance of a trip. Probably, the most straightforward way one could consider would be to pick each pair of numbers in the candidates' list and compute the distances sequentially for each pair of the candidate solution using a `for` loop. However, we can also quickly realise that this way we would be repeating the same calculation many times when considering different solutions. Instead, one efficient alternative could be to pre-compute all pairwise distances and store them in a matrix. Then, computing the overall distance of a candidate solution would only be adding numbers from a matrix position, which is much more efficient than calculating the [euclidean distance](https://en.wikipedia.org/wiki/Euclidean_distance) each time. Thanks to the `distance_matrix()` function from the `scipy` library we can get this pairwise distance matrix very easily."
      ]
    },
    {
      "cell_type": "code",
      "execution_count": 12,
      "metadata": {
        "colab": {
          "base_uri": "https://localhost:8080/"
        },
        "id": "FYj53nY8e6w9",
        "outputId": "b231647c-1f07-481d-b5e5-a4e1bc69ef1f"
      },
      "outputs": [
        {
          "output_type": "stream",
          "name": "stdout",
          "text": [
            "[[ 0.   29.41 13.   41.87 59.4  51.48 89.5 ]\n",
            " [29.41  0.   33.14 18.44 35.85 46.96 92.11]\n",
            " [13.   33.14  0.   39.92 55.76 40.8  76.69]\n",
            " [41.87 18.44 39.92  0.   18.03 34.66 80.06]\n",
            " [59.4  35.85 55.76 18.03  0.   36.14 77.42]\n",
            " [51.48 46.96 40.8  34.66 36.14  0.   45.61]\n",
            " [89.5  92.11 76.69 80.06 77.42 45.61  0.  ]]\n"
          ]
        }
      ],
      "source": [
        "import numpy as np\n",
        "from scipy.spatial import distance_matrix\n",
        "\n",
        "# Store distances in matrix D\n",
        "D = distance_matrix(Cities,Cities)\n",
        "print(np.round(D,2))"
      ]
    },
    {
      "cell_type": "markdown",
      "metadata": {
        "id": "31SyWuKce6w9"
      },
      "source": [
        "As you can see, the output is a symmetric matrix with zeros in the diagonal. The smallest numbers of the case above are the `D[0,2]=13.0` and `D[2,0]=13.0`, corresponding to the closest cities 0 and 2, as shown in the previous plot. The way to compute the distance of a trip is just adding up the values in the matrix for each consecutive pair of cities in the vector `Trip`. We can loop through all these pairs by using `zip(Trip[:-1], Trip[1:])`, which considers both the `Trip` vector without the last element and the same vector but shifted one position forward. Putting all these calculations in a function it is going to be useful, because this operation will be performed many times."
      ]
    },
    {
      "cell_type": "code",
      "execution_count": 13,
      "metadata": {
        "colab": {
          "base_uri": "https://localhost:8080/"
        },
        "id": "YrifJV3Re6w9",
        "outputId": "959ea92b-3cdf-4757-f7cd-5f9926cf26dc"
      },
      "outputs": [
        {
          "output_type": "stream",
          "name": "stdout",
          "text": [
            "343.78\n"
          ]
        }
      ],
      "source": [
        "def compute_distance(Trip, D):\n",
        "    \"\"\"\n",
        "    Computes the distance of a TSP candidate solution.\n",
        "\n",
        "    Arguments:\n",
        "    ----------\n",
        "    Trip : Vector with the ordered sequence of cities.\n",
        "    D: Pre-computed distance matrix.\n",
        "\n",
        "    Returns:\n",
        "    --------\n",
        "    The overall distance value in a float number.\n",
        "    \"\"\"\n",
        "    total_distance = 0\n",
        "    for A, B in zip(Trip[:-1], Trip[1:]):\n",
        "        total_distance += D[A, B]\n",
        "    return(total_distance)\n",
        "\n",
        "distance = compute_distance(Trip,D)\n",
        "print(np.round(distance,2))"
      ]
    },
    {
      "cell_type": "markdown",
      "metadata": {
        "id": "Emd8CNX2e6w9"
      },
      "source": [
        "Additionally, we can pass useful information, such as the number of cities, the candidate number and the total distance, into the function that does the plot. This information can be shown in the title's plot on the top."
      ]
    },
    {
      "cell_type": "code",
      "execution_count": 14,
      "metadata": {
        "colab": {
          "base_uri": "https://localhost:8080/",
          "height": 582
        },
        "id": "UqZCmMl5e6w9",
        "outputId": "242f0d7a-5da8-4eee-f384-df44fbd5b539"
      },
      "outputs": [
        {
          "output_type": "display_data",
          "data": {
            "text/plain": [
              "<Figure size 600x600 with 1 Axes>"
            ],
            "image/png": "[encoded data removed]"
          },
          "metadata": {}
        }
      ],
      "source": [
        "candidate_num = 1\n",
        "\n",
        "# Generate a string of text with useful information\n",
        "text = \"TSP-\" + str(len(Cities)) + \"  candidate: \" + str(candidate_num) + \"  distance: \" + str(np.round(distance,2))\n",
        "\n",
        "plot_TSP(Cities=Cities, Trip=Trip, title=text)"
      ]
    },
    {
      "cell_type": "markdown",
      "metadata": {
        "id": "iEB3H3aae6w-"
      },
      "source": [
        "Thus, we have now created a good abstraction of the TSP problem that allows us to define a specific TSP configuration, provide a candidate solution, compute the distance of this candidate and give a visual feedback of it. The problem is now ready to start the real challenge, searching the optimal candidate in an efficient way."
      ]
    },
    {
      "cell_type": "markdown",
      "metadata": {
        "id": "QbxB8Rk-e6w-"
      },
      "source": [
        "<div class=\"alert alert-block alert-info\"><b>Exercise 1:</b><br> Create a function that generates a random TSP in a 2D squared space, given a number of cities and the size of the edge. The function should return both the list with cities' coordinates and the distance matrix. Then, as a test, generate TSP with 15 cities and plot a solution including the distance. You can use the functions already created in this notebook.<br><br><i>Hint: Checkout <a href=\"https://docs.python.org/3/library/random.html\">the functions</a> within the python package \"random\" and which one would be useful in our case.</i></div>"
      ]
    },
    {
      "cell_type": "code",
      "execution_count": 51,
      "metadata": {
        "colab": {
          "base_uri": "https://localhost:8080/",
          "height": 53
        },
        "id": "QFZ8R5Nhe6w-",
        "outputId": "83a3f6a5-21bf-4a3a-afc7-4465b485ff39"
      },
      "outputs": [
        {
          "output_type": "execute_result",
          "data": {
            "text/plain": [
              "\"Cities' coordinates [(90, 35), (99, 88), (43, 8), (9, 35), (51, 45)], Distance: [[  0.          53.75872022  54.20332093  81.          40.26164428]\\n [ 53.75872022   0.          97.65244493 104.44615838  64.44377394]\\n [ 54.20332093  97.65244493   0.          43.41658669  37.85498646]\\n [ 81.         104.44615838  43.41658669   0.          43.17406629]\\n [ 40.26164428  64.44377394  37.85498646  43.17406629   0.        ]]\""
            ],
            "application/vnd.google.colaboratory.intrinsic+json": {
              "type": "string"
            }
          },
          "metadata": {},
          "execution_count": 51
        }
      ],
      "source": [
        "### EXERCISE 1 SOLUTION ###\n",
        "import random\n",
        "def generate_TSP(number_of_cities, edge):\n",
        "    \"\"\"\n",
        "    Generates a random TSP in a 2D squared space.\n",
        "    \"\"\"\n",
        "    #first generate a random path finder\n",
        "    #generate cities function\n",
        "    locations = []\n",
        "    for i in range(number_of_cities):\n",
        "      x = random.randint(0, 100)\n",
        "      y = random.randint(0, 100)\n",
        "      locations.append((x,y))\n",
        "    #Distance\n",
        "    D = distance_matrix(locations, locations)\n",
        "\n",
        "\n",
        "    return f\"Cities' coordinates {locations}, Distance: {D}\"\n",
        "\n",
        "\n",
        "generate_TSP(5,100)\n",
        "\n"
      ]
    },
    {
      "cell_type": "markdown",
      "metadata": {
        "id": "1IcfAiF9e6w-"
      },
      "source": [
        "## Breadth-first search\n",
        "---\n",
        "\n",
        "Let's start by designing an algorithm that finds a solution by brute force and without using any [heuristic](https://en.wikipedia.org/wiki/Heuristic_(computer_science)). That is, we are going to try first with an [uninformed search](https://cs.lmu.edu/~ray/notes/usearch/). Of course, this might seem the opposite of Artificial Intelligence, but is still a way to get to the solution and it can also be useful as a benchmark for evaluating other strategies. This categories of search algorithms check each possible solution one by one in a specific and pre-defined order. How we define this order, i.e. what rules we apply follow to explore the different tree branches one by one, defines which search algorithm we are using.\n",
        "\n",
        "Checking all the cases here means generating valid sequences of the variable `Trip` and computing the distance for each of them. In mathematics, we call this exploring all the permutations. The number of permutations $\\Pi$ for the TSP is well defined:\n",
        "\n",
        "$\\Pi = (N-1)!=(N-1)\\times(N-2)\\times(N-3)\\times\\dots\\times2\\times1$,\n",
        "\n",
        "where $N$ is the total number of cities. Notice how this number scales dramatically: For $N=7$ cities we have $720$ possible trips, for $N=15$ we have $87178291200$ combinations, and for $N=50$ there are $6.08\\times10^{62}$, which is already a number trillions of times bigger than [the number of atoms in the world](https://education.jlab.org/qa/mathatom_05.html).\n",
        "\n",
        "Someone with basic notions of combinatorics could have suggested the number of permutations to be $N!$. However, you have to take into account that that trips start and end in the same city forming a closed loop. Thus, for $N=4$ cities, the trip 0 &#8594; 1 &#8594; 2 &#8594; 3 &#8594; 0 is the same loop than 1 &#8594; 2 &#8594; 3 &#8594; 0 &#8594; 1. There are exactly $N$ cases of these duplications, so that is why the number is reduced to $(N-1)!$ combinations. These duplications also allow us to select arbitrarily any city as the trip origin, which in our case it's going to be the city 0.\n",
        "\n",
        "The [breadth-first search](https://en.wikipedia.org/wiki/Breadth-first_search) explores all the nodes of the same level before starting exploring the nodes at the level underneath. In this case, we will start by generating all trips with length 1 (level 1), then all trips with length 2 (level 2), then length 3 (level 3), etc. At each step of this sequence we will expand the parent nodes with one new non-visited city:\n",
        "\n",
        "![title](https://github.com/mariogutierrezroig/Teaching-Notebooks/raw/main/Search_Algorithms/BFS_image.png)"
      ]
    },
    {
      "cell_type": "markdown",
      "metadata": {
        "id": "8Ykd_g5Ue6w-"
      },
      "source": [
        "Let's now focus on a very simple case of $N=4$. We can start our algorithm by creating a list `trips` where at the end of the process we will have all possible trips stored in there. We are going to use this variable over and over again to expand our possible combinations. For example, we can append the first element of the trip, which by default is $0$. This is basically doing the level 1 of the image above."
      ]
    },
    {
      "cell_type": "code",
      "execution_count": 64,
      "metadata": {
        "colab": {
          "base_uri": "https://localhost:8080/"
        },
        "id": "q4Eccafge6w-",
        "outputId": "0542d2cb-7033-42ce-f3f3-a74b5333f0f6"
      },
      "outputs": [
        {
          "output_type": "execute_result",
          "data": {
            "text/plain": [
              "[[0]]"
            ]
          },
          "metadata": {},
          "execution_count": 64
        }
      ],
      "source": [
        "# Create a TSP with 4 cities\n",
        "N = 4\n",
        "newcities = [(5,60),(14,32),(17,65),(32,28)]\n",
        "newD = distance_matrix(newcities,newcities)\n",
        "\n",
        "# Create variable for the list of cities\n",
        "citylist = list(range(N))\n",
        "\n",
        "# Create a list for storing all possible combinations\n",
        "trips = []\n",
        "# Manually append the first element 0\n",
        "trips.append([0])\n",
        "\n",
        "trips"
      ]
    },
    {
      "cell_type": "markdown",
      "metadata": {
        "id": "T4A6TGWqe6w-"
      },
      "source": [
        "Then, in order to expand that (level 2), for each parent node (there is only one stored in the `trips` in this iteration) we need to append each non visited city. In Python to get a list of elements in list A that are not present in list B we can use the compacted mode `[x for x in A if x not in B]`. So, the following piece of code would take us to the next level generating all possible combinations:"
      ]
    },
    {
      "cell_type": "code",
      "execution_count": 65,
      "metadata": {
        "colab": {
          "base_uri": "https://localhost:8080/"
        },
        "id": "6VhsxCoue6w-",
        "outputId": "81b12c82-315a-4a84-d103-601b3ceec636"
      },
      "outputs": [
        {
          "output_type": "execute_result",
          "data": {
            "text/plain": [
              "[[0, 1], [0, 2], [0, 3]]"
            ]
          },
          "metadata": {},
          "execution_count": 65
        }
      ],
      "source": [
        "# Create a variable to store new combinations\n",
        "newtrips = []\n",
        "# now iterate over all parent nodes\n",
        "for trip in trips:\n",
        "    # Create a list of remaining cities not visited so far\n",
        "    not_visited = [x for x in citylist if x not in trip]\n",
        "    # Iterate over these not_visited\n",
        "    for nv in not_visited:\n",
        "        # Create new trip adding a not visited city\n",
        "        newtrip = trip + [nv]\n",
        "        # Append this new trip into newtrips\n",
        "        newtrips.append(newtrip)\n",
        "# Update the trips list with new longer versions\n",
        "trips = newtrips\n",
        "\n",
        "trips"
      ]
    },
    {
      "cell_type": "markdown",
      "metadata": {
        "id": "QJk_X_J9e6w_"
      },
      "source": [
        "See how if we run exactly the same piece of code again, it will create the combinations of the next level."
      ]
    },
    {
      "cell_type": "code",
      "execution_count": 67,
      "metadata": {
        "colab": {
          "base_uri": "https://localhost:8080/"
        },
        "id": "7YUst14Ee6w_",
        "outputId": "2dd794d2-24eb-4c17-c64e-f5841e5ab144"
      },
      "outputs": [
        {
          "output_type": "execute_result",
          "data": {
            "text/plain": [
              "[[0, 1, 2, 3],\n",
              " [0, 1, 3, 2],\n",
              " [0, 2, 1, 3],\n",
              " [0, 2, 3, 1],\n",
              " [0, 3, 1, 2],\n",
              " [0, 3, 2, 1]]"
            ]
          },
          "metadata": {},
          "execution_count": 67
        }
      ],
      "source": [
        "# Create a variable to store new combinations\n",
        "newtrips = []\n",
        "# now iterate over all parent nodes\n",
        "for trip in trips:\n",
        "    # Create a list of remaining cities not visited so far\n",
        "    not_visited = [x for x in citylist if x not in trip]\n",
        "    # Iterate over these not_visited\n",
        "    for nv in not_visited:\n",
        "        # Create new trip adding a not visited city\n",
        "        newtrip = trip + [nv]\n",
        "        # Append this new trip into newtrips\n",
        "        newtrips.append(newtrip)\n",
        "# Update the trips list with new longer versions\n",
        "trips = newtrips\n",
        "\n",
        "trips\n",
        "\n",
        "\n"
      ]
    },
    {
      "cell_type": "markdown",
      "metadata": {
        "id": "5dBWUx9Oe6w_"
      },
      "source": [
        "So, basically, to obtain all the combinations we need to run this piece of code $N-1$ times, provided we generate the first level manually. Then we just add the 0 at the end of each one of them, so that we have a valid trip that returns to origin city."
      ]
    },
    {
      "cell_type": "code",
      "execution_count": 68,
      "metadata": {
        "colab": {
          "base_uri": "https://localhost:8080/"
        },
        "id": "n9qOtH0Xe6w_",
        "outputId": "53663317-fbfb-4a9c-8428-75fb48026e3e"
      },
      "outputs": [
        {
          "output_type": "execute_result",
          "data": {
            "text/plain": [
              "[[0, 1, 2, 3, 0],\n",
              " [0, 1, 3, 2, 0],\n",
              " [0, 2, 1, 3, 0],\n",
              " [0, 2, 3, 1, 0],\n",
              " [0, 3, 1, 2, 0],\n",
              " [0, 3, 2, 1, 0]]"
            ]
          },
          "metadata": {},
          "execution_count": 68
        }
      ],
      "source": [
        "# Create variable for the list of cities\n",
        "citylist = list(range(N))\n",
        "\n",
        "# Create a list for storing all possible combinations\n",
        "trips = []\n",
        "\n",
        "# Since is a closed circuit, all trips will start with 0\n",
        "trips.append([0])\n",
        "\n",
        "# Iterate for N-1, each iteration we will make trips longer\n",
        "for i in range(N-1):\n",
        "    # Create a variable to store new combinations\n",
        "    newtrips = []\n",
        "    # now iterate over all combinations\n",
        "    for trip in trips:\n",
        "        # Create a list of remaining cities not visited so far\n",
        "        not_visited = [x for x in citylist if x not in trip]\n",
        "        # Iterate over these not_visited\n",
        "        for nv in not_visited:\n",
        "            # Create new trip adding a not visited city plus a 0 to\n",
        "            newtrip = trip + [nv]\n",
        "            # Append this new trip into newtrips\n",
        "            newtrips.append(newtrip)\n",
        "    # Update the trips list with new longer versions\n",
        "    trips = newtrips\n",
        "\n",
        "#Append 0 to create valid trips\n",
        "for trip in trips:\n",
        "    trip.append(0)\n",
        "trips"
      ]
    },
    {
      "cell_type": "markdown",
      "metadata": {
        "id": "OMeEX0R_e6w_"
      },
      "source": [
        "Now that we have the collection of all possible trips, we need to search for the best one. We are going to run a loop through all them, compute the distance, and whenever we find one candidate with a smaller distance, that is going to become our best candidate. When such thing happens we are also going to store that information in a dataframe to see the evolution."
      ]
    },
    {
      "cell_type": "code",
      "execution_count": 70,
      "metadata": {
        "colab": {
          "base_uri": "https://localhost:8080/",
          "height": 142
        },
        "id": "d8ryV4a6e6w_",
        "outputId": "110f2880-3e84-4f6b-ebf0-a6d0e60fbfbd"
      },
      "outputs": [
        {
          "output_type": "stream",
          "name": "stdout",
          "text": [
            "[0, 1, 3, 2, 0]\n"
          ]
        },
        {
          "output_type": "execute_result",
          "data": {
            "text/plain": [
              "   round    distance\n",
              "0      1  144.340738\n",
              "1      2  100.774901"
            ],
            "text/html": [
              "\n",
              "  <div id=\"df-4a12795d-5eb2-4fe7-8e24-b48847581137\" class=\"colab-df-container\">\n",
              "    <div>\n",
              "<style scoped>\n",
              "    .dataframe tbody tr th:only-of-type {\n",
              "        vertical-align: middle;\n",
              "    }\n",
              "\n",
              "    .dataframe tbody tr th {\n",
              "        vertical-align: top;\n",
              "    }\n",
              "\n",
              "    .dataframe thead th {\n",
              "        text-align: right;\n",
              "    }\n",
              "</style>\n",
              "<table border=\"1\" class=\"dataframe\">\n",
              "  <thead>\n",
              "    <tr style=\"text-align: right;\">\n",
              "      <th></th>\n",
              "      <th>round</th>\n",
              "      <th>distance</th>\n",
              "    </tr>\n",
              "  </thead>\n",
              "  <tbody>\n",
              "    <tr>\n",
              "      <th>0</th>\n",
              "      <td>1</td>\n",
              "      <td>144.340738</td>\n",
              "    </tr>\n",
              "    <tr>\n",
              "      <th>1</th>\n",
              "      <td>2</td>\n",
              "      <td>100.774901</td>\n",
              "    </tr>\n",
              "  </tbody>\n",
              "</table>\n",
              "</div>\n",
              "    <div class=\"colab-df-buttons\">\n",
              "\n",
              "  <div class=\"colab-df-container\">\n",
              "    <button class=\"colab-df-convert\" onclick=\"convertToInteractive('df-4a12795d-5eb2-4fe7-8e24-b48847581137')\"\n",
              "            title=\"Convert this dataframe to an interactive table.\"\n",
              "            style=\"display:none;\">\n",
              "\n",
              "  <svg xmlns=\"http://www.w3.org/2000/svg\" height=\"24px\" viewBox=\"0 -960 960 960\">\n",
              "    <path d=\"M120-120v-720h720v720H120Zm60-500h600v-160H180v160Zm220 220h160v-160H400v160Zm0 220h160v-160H400v160ZM180-400h160v-160H180v160Zm440 0h160v-160H620v160ZM180-180h160v-160H180v160Zm440 0h160v-160H620v160Z\"/>\n",
              "  </svg>\n",
              "    </button>\n",
              "\n",
              "  <style>\n",
              "    .colab-df-container {\n",
              "      display:flex;\n",
              "      gap: 12px;\n",
              "    }\n",
              "\n",
              "    .colab-df-convert {\n",
              "      background-color: #E8F0FE;\n",
              "      border: none;\n",
              "      border-radius: 50%;\n",
              "      cursor: pointer;\n",
              "      display: none;\n",
              "      fill: #1967D2;\n",
              "      height: 32px;\n",
              "      padding: 0 0 0 0;\n",
              "      width: 32px;\n",
              "    }\n",
              "\n",
              "    .colab-df-convert:hover {\n",
              "      background-color: #E2EBFA;\n",
              "      box-shadow: 0px 1px 2px rgba(60, 64, 67, 0.3), 0px 1px 3px 1px rgba(60, 64, 67, 0.15);\n",
              "      fill: #174EA6;\n",
              "    }\n",
              "\n",
              "    .colab-df-buttons div {\n",
              "      margin-bottom: 4px;\n",
              "    }\n",
              "\n",
              "    [theme=dark] .colab-df-convert {\n",
              "      background-color: #3B4455;\n",
              "      fill: #D2E3FC;\n",
              "    }\n",
              "\n",
              "    [theme=dark] .colab-df-convert:hover {\n",
              "      background-color: #434B5C;\n",
              "      box-shadow: 0px 1px 3px 1px rgba(0, 0, 0, 0.15);\n",
              "      filter: drop-shadow(0px 1px 2px rgba(0, 0, 0, 0.3));\n",
              "      fill: #FFFFFF;\n",
              "    }\n",
              "  </style>\n",
              "\n",
              "    <script>\n",
              "      const buttonEl =\n",
              "        document.querySelector('#df-4a12795d-5eb2-4fe7-8e24-b48847581137 button.colab-df-convert');\n",
              "      buttonEl.style.display =\n",
              "        google.colab.kernel.accessAllowed ? 'block' : 'none';\n",
              "\n",
              "      async function convertToInteractive(key) {\n",
              "        const element = document.querySelector('#df-4a12795d-5eb2-4fe7-8e24-b48847581137');\n",
              "        const dataTable =\n",
              "          await google.colab.kernel.invokeFunction('convertToInteractive',\n",
              "                                                    [key], {});\n",
              "        if (!dataTable) return;\n",
              "\n",
              "        const docLinkHtml = 'Like what you see? Visit the ' +\n",
              "          '<a target=\"_blank\" href=https://colab.research.google.com/notebooks/data_table.ipynb>data table notebook</a>'\n",
              "          + ' to learn more about interactive tables.';\n",
              "        element.innerHTML = '';\n",
              "        dataTable['output_type'] = 'display_data';\n",
              "        await google.colab.output.renderOutput(dataTable, element);\n",
              "        const docLink = document.createElement('div');\n",
              "        docLink.innerHTML = docLinkHtml;\n",
              "        element.appendChild(docLink);\n",
              "      }\n",
              "    </script>\n",
              "  </div>\n",
              "\n",
              "\n",
              "<div id=\"df-e98c399f-3b31-4dac-883d-ad0804292182\">\n",
              "  <button class=\"colab-df-quickchart\" onclick=\"quickchart('df-e98c399f-3b31-4dac-883d-ad0804292182')\"\n",
              "            title=\"Suggest charts\"\n",
              "            style=\"display:none;\">\n",
              "\n",
              "<svg xmlns=\"http://www.w3.org/2000/svg\" height=\"24px\"viewBox=\"0 0 24 24\"\n",
              "     width=\"24px\">\n",
              "    <g>\n",
              "        <path d=\"M19 3H5c-1.1 0-2 .9-2 2v14c0 1.1.9 2 2 2h14c1.1 0 2-.9 2-2V5c0-1.1-.9-2-2-2zM9 17H7v-7h2v7zm4 0h-2V7h2v10zm4 0h-2v-4h2v4z\"/>\n",
              "    </g>\n",
              "</svg>\n",
              "  </button>\n",
              "\n",
              "<style>\n",
              "  .colab-df-quickchart {\n",
              "      --bg-color: #E8F0FE;\n",
              "      --fill-color: #1967D2;\n",
              "      --hover-bg-color: #E2EBFA;\n",
              "      --hover-fill-color: #174EA6;\n",
              "      --disabled-fill-color: #AAA;\n",
              "      --disabled-bg-color: #DDD;\n",
              "  }\n",
              "\n",
              "  [theme=dark] .colab-df-quickchart {\n",
              "      --bg-color: #3B4455;\n",
              "      --fill-color: #D2E3FC;\n",
              "      --hover-bg-color: #434B5C;\n",
              "      --hover-fill-color: #FFFFFF;\n",
              "      --disabled-bg-color: #3B4455;\n",
              "      --disabled-fill-color: #666;\n",
              "  }\n",
              "\n",
              "  .colab-df-quickchart {\n",
              "    background-color: var(--bg-color);\n",
              "    border: none;\n",
              "    border-radius: 50%;\n",
              "    cursor: pointer;\n",
              "    display: none;\n",
              "    fill: var(--fill-color);\n",
              "    height: 32px;\n",
              "    padding: 0;\n",
              "    width: 32px;\n",
              "  }\n",
              "\n",
              "  .colab-df-quickchart:hover {\n",
              "    background-color: var(--hover-bg-color);\n",
              "    box-shadow: 0 1px 2px rgba(60, 64, 67, 0.3), 0 1px 3px 1px rgba(60, 64, 67, 0.15);\n",
              "    fill: var(--button-hover-fill-color);\n",
              "  }\n",
              "\n",
              "  .colab-df-quickchart-complete:disabled,\n",
              "  .colab-df-quickchart-complete:disabled:hover {\n",
              "    background-color: var(--disabled-bg-color);\n",
              "    fill: var(--disabled-fill-color);\n",
              "    box-shadow: none;\n",
              "  }\n",
              "\n",
              "  .colab-df-spinner {\n",
              "    border: 2px solid var(--fill-color);\n",
              "    border-color: transparent;\n",
              "    border-bottom-color: var(--fill-color);\n",
              "    animation:\n",
              "      spin 1s steps(1) infinite;\n",
              "  }\n",
              "\n",
              "  @keyframes spin {\n",
              "    0% {\n",
              "      border-color: transparent;\n",
              "      border-bottom-color: var(--fill-color);\n",
              "      border-left-color: var(--fill-color);\n",
              "    }\n",
              "    20% {\n",
              "      border-color: transparent;\n",
              "      border-left-color: var(--fill-color);\n",
              "      border-top-color: var(--fill-color);\n",
              "    }\n",
              "    30% {\n",
              "      border-color: transparent;\n",
              "      border-left-color: var(--fill-color);\n",
              "      border-top-color: var(--fill-color);\n",
              "      border-right-color: var(--fill-color);\n",
              "    }\n",
              "    40% {\n",
              "      border-color: transparent;\n",
              "      border-right-color: var(--fill-color);\n",
              "      border-top-color: var(--fill-color);\n",
              "    }\n",
              "    60% {\n",
              "      border-color: transparent;\n",
              "      border-right-color: var(--fill-color);\n",
              "    }\n",
              "    80% {\n",
              "      border-color: transparent;\n",
              "      border-right-color: var(--fill-color);\n",
              "      border-bottom-color: var(--fill-color);\n",
              "    }\n",
              "    90% {\n",
              "      border-color: transparent;\n",
              "      border-bottom-color: var(--fill-color);\n",
              "    }\n",
              "  }\n",
              "</style>\n",
              "\n",
              "  <script>\n",
              "    async function quickchart(key) {\n",
              "      const quickchartButtonEl =\n",
              "        document.querySelector('#' + key + ' button');\n",
              "      quickchartButtonEl.disabled = true;  // To prevent multiple clicks.\n",
              "      quickchartButtonEl.classList.add('colab-df-spinner');\n",
              "      try {\n",
              "        const charts = await google.colab.kernel.invokeFunction(\n",
              "            'suggestCharts', [key], {});\n",
              "      } catch (error) {\n",
              "        console.error('Error during call to suggestCharts:', error);\n",
              "      }\n",
              "      quickchartButtonEl.classList.remove('colab-df-spinner');\n",
              "      quickchartButtonEl.classList.add('colab-df-quickchart-complete');\n",
              "    }\n",
              "    (() => {\n",
              "      let quickchartButtonEl =\n",
              "        document.querySelector('#df-e98c399f-3b31-4dac-883d-ad0804292182 button');\n",
              "      quickchartButtonEl.style.display =\n",
              "        google.colab.kernel.accessAllowed ? 'block' : 'none';\n",
              "    })();\n",
              "  </script>\n",
              "</div>\n",
              "\n",
              "  <div id=\"id_6ddcad27-b83d-4934-bb6e-cc2988baf17a\">\n",
              "    <style>\n",
              "      .colab-df-generate {\n",
              "        background-color: #E8F0FE;\n",
              "        border: none;\n",
              "        border-radius: 50%;\n",
              "        cursor: pointer;\n",
              "        display: none;\n",
              "        fill: #1967D2;\n",
              "        height: 32px;\n",
              "        padding: 0 0 0 0;\n",
              "        width: 32px;\n",
              "      }\n",
              "\n",
              "      .colab-df-generate:hover {\n",
              "        background-color: #E2EBFA;\n",
              "        box-shadow: 0px 1px 2px rgba(60, 64, 67, 0.3), 0px 1px 3px 1px rgba(60, 64, 67, 0.15);\n",
              "        fill: #174EA6;\n",
              "      }\n",
              "\n",
              "      [theme=dark] .colab-df-generate {\n",
              "        background-color: #3B4455;\n",
              "        fill: #D2E3FC;\n",
              "      }\n",
              "\n",
              "      [theme=dark] .colab-df-generate:hover {\n",
              "        background-color: #434B5C;\n",
              "        box-shadow: 0px 1px 3px 1px rgba(0, 0, 0, 0.15);\n",
              "        filter: drop-shadow(0px 1px 2px rgba(0, 0, 0, 0.3));\n",
              "        fill: #FFFFFF;\n",
              "      }\n",
              "    </style>\n",
              "    <button class=\"colab-df-generate\" onclick=\"generateWithVariable('df')\"\n",
              "            title=\"Generate code using this dataframe.\"\n",
              "            style=\"display:none;\">\n",
              "\n",
              "  <svg xmlns=\"http://www.w3.org/2000/svg\" height=\"24px\"viewBox=\"0 0 24 24\"\n",
              "       width=\"24px\">\n",
              "    <path d=\"M7,19H8.4L18.45,9,17,7.55,7,17.6ZM5,21V16.75L18.45,3.32a2,2,0,0,1,2.83,0l1.4,1.43a1.91,1.91,0,0,1,.58,1.4,1.91,1.91,0,0,1-.58,1.4L9.25,21ZM18.45,9,17,7.55Zm-12,3A5.31,5.31,0,0,0,4.9,8.1,5.31,5.31,0,0,0,1,6.5,5.31,5.31,0,0,0,4.9,4.9,5.31,5.31,0,0,0,6.5,1,5.31,5.31,0,0,0,8.1,4.9,5.31,5.31,0,0,0,12,6.5,5.46,5.46,0,0,0,6.5,12Z\"/>\n",
              "  </svg>\n",
              "    </button>\n",
              "    <script>\n",
              "      (() => {\n",
              "      const buttonEl =\n",
              "        document.querySelector('#id_6ddcad27-b83d-4934-bb6e-cc2988baf17a button.colab-df-generate');\n",
              "      buttonEl.style.display =\n",
              "        google.colab.kernel.accessAllowed ? 'block' : 'none';\n",
              "\n",
              "      buttonEl.onclick = () => {\n",
              "        google.colab.notebook.generateWithVariable('df');\n",
              "      }\n",
              "      })();\n",
              "    </script>\n",
              "  </div>\n",
              "\n",
              "    </div>\n",
              "  </div>\n"
            ],
            "application/vnd.google.colaboratory.intrinsic+json": {
              "type": "dataframe",
              "variable_name": "df",
              "summary": "{\n  \"name\": \"df\",\n  \"rows\": 2,\n  \"fields\": [\n    {\n      \"column\": \"round\",\n      \"properties\": {\n        \"dtype\": \"number\",\n        \"std\": 0,\n        \"min\": 1,\n        \"max\": 2,\n        \"num_unique_values\": 2,\n        \"samples\": [\n          2,\n          1\n        ],\n        \"semantic_type\": \"\",\n        \"description\": \"\"\n      }\n    },\n    {\n      \"column\": \"distance\",\n      \"properties\": {\n        \"dtype\": \"number\",\n        \"std\": 30.80569874806446,\n        \"min\": 100.77490080964552,\n        \"max\": 144.34073777753815,\n        \"num_unique_values\": 2,\n        \"samples\": [\n          100.77490080964552,\n          144.34073777753815\n        ],\n        \"semantic_type\": \"\",\n        \"description\": \"\"\n      }\n    }\n  ]\n}"
            }
          },
          "metadata": {},
          "execution_count": 70
        }
      ],
      "source": [
        "import pandas as pd\n",
        "\n",
        "# Define best initial candidate\n",
        "best = trips[0]\n",
        "bestdist = compute_distance(best,D)\n",
        "\n",
        "# Counter\n",
        "i = 1\n",
        "\n",
        "# List for storing information for the df\n",
        "info = [[i,bestdist]]\n",
        "\n",
        "# Iterate over all trips (except the first)\n",
        "for trip in trips[1:]:\n",
        "    # Increase the counter\n",
        "    i += 1\n",
        "\n",
        "    d = compute_distance(trip,D)\n",
        "\n",
        "    if d < bestdist:\n",
        "        best = trip\n",
        "        bestdist = d\n",
        "        info.append([i,bestdist])\n",
        "\n",
        "df = pd.DataFrame(info,columns=[\"round\",\"distance\"])\n",
        "print(best)\n",
        "df"
      ]
    },
    {
      "cell_type": "markdown",
      "metadata": {
        "id": "XmEPz3Upe6w_"
      },
      "source": [
        "We can put everything together in a function to solve any TSP problem, defined by its corresponding `cities` and `D` variables, using Breadth-first search strategy. We also introduce a cap the number of iterations we are checking using the parameter `max_it`, but we shall not try with a very large number of cities anyways, or our computer might freeze for long time."
      ]
    },
    {
      "cell_type": "code",
      "execution_count": 71,
      "metadata": {
        "id": "tZKt_VN6e6w_"
      },
      "outputs": [],
      "source": [
        "def breadth_first_search(cities,D,max_it):\n",
        "    \"\"\"\n",
        "    Finds a solution of TSP using breadth-first search.\n",
        "\n",
        "    Arguments:\n",
        "    ----------\n",
        "    Cities : List of points (x,y).\n",
        "    D: Pre-computed distance matrix.\n",
        "    max_it: Maximum number of iterations.\n",
        "\n",
        "    Returns:\n",
        "    --------\n",
        "    - Best candidate Trip\n",
        "    - Best candidate round found\n",
        "    - Data frame with round number and distance\n",
        "\n",
        "    \"\"\"\n",
        "    # Get the number of cities from the list\n",
        "    N = len(cities)\n",
        "\n",
        "    # Create variable for the list of cities\n",
        "    citylist = list(range(N))\n",
        "\n",
        "    # Create a list for storing all possible combinations\n",
        "    trips = []\n",
        "\n",
        "    # Since is a closed circuit, all trips will start with 0\n",
        "    trips.append([0])\n",
        "\n",
        "    # Iterate for N-1, each iteration we will make trips longer\n",
        "    for i in range(N-1):\n",
        "        # Create a variable to store new combinations\n",
        "        newtrips = []\n",
        "        # now iterate over all combinations\n",
        "        for trip in trips:\n",
        "            # Create a list of remaining cities not visited so far\n",
        "            not_visited = [x for x in citylist if x not in trip]\n",
        "            # Iterate over these not_visited\n",
        "            for nv in not_visited:\n",
        "                # Create new trip adding a not visited city plus a 0 to\n",
        "                newtrip = trip + [nv]\n",
        "                # Append this new trip into newtrips\n",
        "                newtrips.append(newtrip)\n",
        "        # Update the trips list with new longer versions\n",
        "        trips = newtrips\n",
        "\n",
        "    # Append 0 to create valid trips returning to origin\n",
        "    for trip in trips:\n",
        "        trip.append(0)\n",
        "\n",
        "    # Define best initial candidate\n",
        "    best = trips[0]\n",
        "    bestdist = compute_distance(best,D)\n",
        "\n",
        "    # Counter\n",
        "    i = 1\n",
        "\n",
        "    # List for storing information for the df\n",
        "    info = [[i,bestdist]]\n",
        "\n",
        "    # Iterate over all trips (except the first)\n",
        "    for trip in trips[1:]:\n",
        "        # Increase the counter\n",
        "        i += 1\n",
        "        # end loop if we reach max_it iterations\n",
        "        if i >= max_it:\n",
        "            break\n",
        "\n",
        "        d = compute_distance(trip,D)\n",
        "\n",
        "        if d < bestdist:\n",
        "            best = trip\n",
        "            bestdist = d\n",
        "            info.append([i,bestdist])\n",
        "\n",
        "    df = pd.DataFrame(info,columns=[\"round\",\"distance\"])\n",
        "    # Get the last round where best candidate appear\n",
        "    cand_round = info[-1][0]\n",
        "    return(best,cand_round,df)"
      ]
    },
    {
      "cell_type": "markdown",
      "metadata": {
        "id": "mWdMxU0ye6xA"
      },
      "source": [
        "We can use it now in a very simple way after defininf a TSP problem. Let's try with the TSP with 7 cities at the beginning."
      ]
    },
    {
      "cell_type": "code",
      "execution_count": 72,
      "metadata": {
        "colab": {
          "base_uri": "https://localhost:8080/",
          "height": 686
        },
        "id": "YVEvzHOOe6xA",
        "outputId": "cdd896bc-b80c-4458-cc0c-90e4002ccbe0"
      },
      "outputs": [
        {
          "output_type": "stream",
          "name": "stdout",
          "text": [
            "Breadth-first search candidate (round 34): [ 0 ,   1 ,   3 ,   4 ,   5 ,   6 ,   2 ,   0 ]\n",
            "   round    distance\n",
            "0      1  291.743894\n",
            "1     18  286.275921\n",
            "2     24  280.876882\n",
            "3     34  237.311045\n"
          ]
        },
        {
          "output_type": "display_data",
          "data": {
            "text/plain": [
              "<Figure size 600x600 with 1 Axes>"
            ],
            "image/png": "[encoded data removed]"
          },
          "metadata": {}
        }
      ],
      "source": [
        "# Use breadth_first_search()\n",
        "sol_bfs,sol_round_bfs,df_bfs = breadth_first_search(Cities,D,max_it=5000)\n",
        "# Print the candidate\n",
        "print(\"Breadth-first search candidate (round \" + str(sol_round_bfs) + \"): \" + ' '.join(str(sol_bfs)))\n",
        "# Show first candidates distance\n",
        "print(df_bfs.head(20))\n",
        "# Generate title text\n",
        "distance = df_bfs[\"distance\"].tail(1).values[0]\n",
        "text = \"TSP-\" + str(len(Cities)) + \"  candidate: \" + str(sol_round_bfs) + \"  distance: \" + str(np.round(distance,2))\n",
        "# Use plot_TSP()\n",
        "plot_TSP(Cities=Cities, Trip=sol_bfs, title=text)"
      ]
    },
    {
      "cell_type": "markdown",
      "metadata": {
        "id": "qWgbXM4-e6xA"
      },
      "source": [
        "Indeed, the solution found seems to be the optimal one. It is also interesting to check how quickly the distance of the best candidate decays as rounds go along. This curve is also called [loss function](https://en.wikipedia.org/wiki/Loss_function) and useful for providing a sense of how quick or efficient is the algorithm when finding the best candidate. The data frame `df_bfs` returned from the `breadth_first_search()` function conveniently contains all the necessary information for this plot."
      ]
    },
    {
      "cell_type": "code",
      "execution_count": 73,
      "metadata": {
        "colab": {
          "base_uri": "https://localhost:8080/",
          "height": 428
        },
        "id": "-kuddvOae6xA",
        "outputId": "4a6249aa-5057-4c6a-ebf8-e649116a2559"
      },
      "outputs": [
        {
          "output_type": "display_data",
          "data": {
            "text/plain": [
              "<Figure size 600x400 with 1 Axes>"
            ],
            "image/png": "[encoded data removed]"
          },
          "metadata": {}
        }
      ],
      "source": [
        "fig, ax = plt.subplots(figsize=(6,4))\n",
        "\n",
        "# Plot's title\n",
        "fig.suptitle(\"Loss function\", fontsize=16)\n",
        "\n",
        "# Plot one line joining each pair\n",
        "ax.plot(df_bfs[\"round\"], df_bfs[\"distance\"], color=\"blue\", lw=3)\n",
        "\n",
        "ax.set_xlim(0,100)\n",
        "\n",
        "# Set labels\n",
        "ax.set_ylabel(\"distance\")\n",
        "ax.set_xlabel(\"round\")\n",
        "\n",
        "plt.show()"
      ]
    },
    {
      "cell_type": "markdown",
      "metadata": {
        "id": "AatYrUrse6xA"
      },
      "source": [
        "<div class=\"alert alert-block alert-info\"><b>Exercise 2:</b><br> Think of an algorithm that implements the depth-first search (DFS) algorithm for this formulation of the TSP. Use pencil and paper for drawing flowcharts or pseudocode if you need it. Then try to implement it in Python by creating a function called depth_first_search() with distance matrix and the cities as inputs like we have done above. Alert: When testing it do not use large number of cities. This could fill up entirely your RAM memory and you'd need to restart your computer.<br><br><i>Hint: In the itertools library there is a function called <a href=\"https://docs.python.org/3/library/itertools.html#itertools.permutations\">permutations</a> that you might find useful.</i></div>"
      ]
    },
    {
      "cell_type": "code",
      "execution_count": 77,
      "metadata": {
        "colab": {
          "base_uri": "https://localhost:8080/",
          "height": 81
        },
        "id": "zNtdUjTIe6xA",
        "outputId": "560dc0bb-c8c4-4453-caad-151036849425"
      },
      "outputs": [
        {
          "output_type": "execute_result",
          "data": {
            "text/plain": [
              "   round    distance\n",
              "0      0  291.743894"
            ],
            "text/html": [
              "\n",
              "  <div id=\"df-167bb5ce-feb4-48a3-9d33-636262fca4ef\" class=\"colab-df-container\">\n",
              "    <div>\n",
              "<style scoped>\n",
              "    .dataframe tbody tr th:only-of-type {\n",
              "        vertical-align: middle;\n",
              "    }\n",
              "\n",
              "    .dataframe tbody tr th {\n",
              "        vertical-align: top;\n",
              "    }\n",
              "\n",
              "    .dataframe thead th {\n",
              "        text-align: right;\n",
              "    }\n",
              "</style>\n",
              "<table border=\"1\" class=\"dataframe\">\n",
              "  <thead>\n",
              "    <tr style=\"text-align: right;\">\n",
              "      <th></th>\n",
              "      <th>round</th>\n",
              "      <th>distance</th>\n",
              "    </tr>\n",
              "  </thead>\n",
              "  <tbody>\n",
              "    <tr>\n",
              "      <th>0</th>\n",
              "      <td>0</td>\n",
              "      <td>291.743894</td>\n",
              "    </tr>\n",
              "  </tbody>\n",
              "</table>\n",
              "</div>\n",
              "    <div class=\"colab-df-buttons\">\n",
              "\n",
              "  <div class=\"colab-df-container\">\n",
              "    <button class=\"colab-df-convert\" onclick=\"convertToInteractive('df-167bb5ce-feb4-48a3-9d33-636262fca4ef')\"\n",
              "            title=\"Convert this dataframe to an interactive table.\"\n",
              "            style=\"display:none;\">\n",
              "\n",
              "  <svg xmlns=\"http://www.w3.org/2000/svg\" height=\"24px\" viewBox=\"0 -960 960 960\">\n",
              "    <path d=\"M120-120v-720h720v720H120Zm60-500h600v-160H180v160Zm220 220h160v-160H400v160Zm0 220h160v-160H400v160ZM180-400h160v-160H180v160Zm440 0h160v-160H620v160ZM180-180h160v-160H180v160Zm440 0h160v-160H620v160Z\"/>\n",
              "  </svg>\n",
              "    </button>\n",
              "\n",
              "  <style>\n",
              "    .colab-df-container {\n",
              "      display:flex;\n",
              "      gap: 12px;\n",
              "    }\n",
              "\n",
              "    .colab-df-convert {\n",
              "      background-color: #E8F0FE;\n",
              "      border: none;\n",
              "      border-radius: 50%;\n",
              "      cursor: pointer;\n",
              "      display: none;\n",
              "      fill: #1967D2;\n",
              "      height: 32px;\n",
              "      padding: 0 0 0 0;\n",
              "      width: 32px;\n",
              "    }\n",
              "\n",
              "    .colab-df-convert:hover {\n",
              "      background-color: #E2EBFA;\n",
              "      box-shadow: 0px 1px 2px rgba(60, 64, 67, 0.3), 0px 1px 3px 1px rgba(60, 64, 67, 0.15);\n",
              "      fill: #174EA6;\n",
              "    }\n",
              "\n",
              "    .colab-df-buttons div {\n",
              "      margin-bottom: 4px;\n",
              "    }\n",
              "\n",
              "    [theme=dark] .colab-df-convert {\n",
              "      background-color: #3B4455;\n",
              "      fill: #D2E3FC;\n",
              "    }\n",
              "\n",
              "    [theme=dark] .colab-df-convert:hover {\n",
              "      background-color: #434B5C;\n",
              "      box-shadow: 0px 1px 3px 1px rgba(0, 0, 0, 0.15);\n",
              "      filter: drop-shadow(0px 1px 2px rgba(0, 0, 0, 0.3));\n",
              "      fill: #FFFFFF;\n",
              "    }\n",
              "  </style>\n",
              "\n",
              "    <script>\n",
              "      const buttonEl =\n",
              "        document.querySelector('#df-167bb5ce-feb4-48a3-9d33-636262fca4ef button.colab-df-convert');\n",
              "      buttonEl.style.display =\n",
              "        google.colab.kernel.accessAllowed ? 'block' : 'none';\n",
              "\n",
              "      async function convertToInteractive(key) {\n",
              "        const element = document.querySelector('#df-167bb5ce-feb4-48a3-9d33-636262fca4ef');\n",
              "        const dataTable =\n",
              "          await google.colab.kernel.invokeFunction('convertToInteractive',\n",
              "                                                    [key], {});\n",
              "        if (!dataTable) return;\n",
              "\n",
              "        const docLinkHtml = 'Like what you see? Visit the ' +\n",
              "          '<a target=\"_blank\" href=https://colab.research.google.com/notebooks/data_table.ipynb>data table notebook</a>'\n",
              "          + ' to learn more about interactive tables.';\n",
              "        element.innerHTML = '';\n",
              "        dataTable['output_type'] = 'display_data';\n",
              "        await google.colab.output.renderOutput(dataTable, element);\n",
              "        const docLink = document.createElement('div');\n",
              "        docLink.innerHTML = docLinkHtml;\n",
              "        element.appendChild(docLink);\n",
              "      }\n",
              "    </script>\n",
              "  </div>\n",
              "\n",
              "\n",
              "    </div>\n",
              "  </div>\n"
            ],
            "application/vnd.google.colaboratory.intrinsic+json": {
              "type": "dataframe",
              "summary": "{\n  \"name\": \"depth_first_search(Cities, D, 5000)\",\n  \"rows\": 1,\n  \"fields\": [\n    {\n      \"column\": \"round\",\n      \"properties\": {\n        \"dtype\": \"number\",\n        \"std\": null,\n        \"min\": 0,\n        \"max\": 0,\n        \"num_unique_values\": 1,\n        \"samples\": [\n          0\n        ],\n        \"semantic_type\": \"\",\n        \"description\": \"\"\n      }\n    },\n    {\n      \"column\": \"distance\",\n      \"properties\": {\n        \"dtype\": \"number\",\n        \"std\": null,\n        \"min\": 291.7438936681501,\n        \"max\": 291.7438936681501,\n        \"num_unique_values\": 1,\n        \"samples\": [\n          291.7438936681501\n        ],\n        \"semantic_type\": \"\",\n        \"description\": \"\"\n      }\n    }\n  ]\n}"
            }
          },
          "metadata": {},
          "execution_count": 77
        }
      ],
      "source": [
        "from itertools import permutations\n",
        "### EXERCISE 2 SOLUTION ###\n",
        "def depth_first_search(cities, D, max_it):\n",
        "  \"\"\"\n",
        "  \"\"\"\n",
        "  root = list(range(1, len(Cities)))\n",
        "  #best is the frist node\n",
        "  best = [0] + list(root) + [0]\n",
        "  #get distance\n",
        "  best_dist = compute_distance(best, D)\n",
        "  #counter\n",
        "  i = 0\n",
        "  #store ans\n",
        "  info = [[i, best_dist]]\n",
        "  for perm in permutations(root):\n",
        "    i+= 1\n",
        "    if i >= max_it:\n",
        "      break\n",
        "\n",
        "    trip = [0] + list(perm) + [0]\n",
        "    d = compute_distance(trip, D)\n",
        "\n",
        "    if d < best_dist:\n",
        "      best = trip\n",
        "      best_dist = d\n",
        "      info.append([i, best_dist])\n",
        "\n",
        "    df = pd.DataFrame(info, columns=[\"round\",\"distance\"])\n",
        "    #get the last info, which is the shortest path\n",
        "    best_round = info[-1][0]\n",
        "    return(df)\n",
        "\n",
        "depth_first_search(Cities, D, 5000)"
      ]
    },
    {
      "cell_type": "code",
      "source": [],
      "metadata": {
        "id": "V2Psahm5xtYA"
      },
      "execution_count": null,
      "outputs": []
    },
    {
      "cell_type": "markdown",
      "metadata": {
        "id": "YzuQ9QRLe6xA"
      },
      "source": [
        "## Random search\n",
        "---\n",
        "\n",
        "Another interesting algorithm to consider for TSP is the [random search](https://en.wikipedia.org/wiki/Random_search), where we check one random permutation at a time. Statistically speaking [Depth-first search algorithm](#Depth-first-search) and this one have the same chances to find the optimal solution in each round, assuming we don't have any extra information. However, their appropriateness differ depending whether we plan to explore all solutions or not, which for high number of cities might be something we want to consider. If we do, it is of course optimal to know the distance of each of the candidates and take the shortest one. If we don't, we might argue that the random search is better because the variability of the solutions will be higher. For 7 cities, the number of candidates is 720, something achievable almost instantly for a standard computer. However, for 15 cities we have already 87,178,291,200 or around 87 billion candidates to check. If we plan to increase the number of cities, we know that we won't be able to explore all possibilities and our depth-first search will only explore a small subset of those, all of them probably starting with the same sequence. If we want to at least explore trips starting with different sequences, then we have a good reason to choose random search.\n",
        "\n",
        "Fortunately, `numpy` makes our lives very easy by letting us use the `random.permutation()` function, which returns a random sequence of N numbers.  "
      ]
    },
    {
      "cell_type": "code",
      "execution_count": null,
      "metadata": {
        "id": "Kb71M3xie6xA",
        "outputId": "8135c410-9ac2-4505-f9d8-d4dd46bc7426"
      },
      "outputs": [
        {
          "name": "stdout",
          "output_type": "stream",
          "text": [
            "Random search candidate (round 7): [ 0 ,   1 ,   3 ,   4 ,   5 ,   6 ,   2 ,   0 ]\n"
          ]
        },
        {
          "data": {
            "text/html": [
              "<div>\n",
              "<style scoped>\n",
              "    .dataframe tbody tr th:only-of-type {\n",
              "        vertical-align: middle;\n",
              "    }\n",
              "\n",
              "    .dataframe tbody tr th {\n",
              "        vertical-align: top;\n",
              "    }\n",
              "\n",
              "    .dataframe thead th {\n",
              "        text-align: right;\n",
              "    }\n",
              "</style>\n",
              "<table border=\"1\" class=\"dataframe\">\n",
              "  <thead>\n",
              "    <tr style=\"text-align: right;\">\n",
              "      <th></th>\n",
              "      <th>round</th>\n",
              "      <th>distance</th>\n",
              "    </tr>\n",
              "  </thead>\n",
              "  <tbody>\n",
              "    <tr>\n",
              "      <th>0</th>\n",
              "      <td>1</td>\n",
              "      <td>348.848132</td>\n",
              "    </tr>\n",
              "    <tr>\n",
              "      <th>1</th>\n",
              "      <td>2</td>\n",
              "      <td>330.702183</td>\n",
              "    </tr>\n",
              "    <tr>\n",
              "      <th>2</th>\n",
              "      <td>3</td>\n",
              "      <td>317.857607</td>\n",
              "    </tr>\n",
              "    <tr>\n",
              "      <th>3</th>\n",
              "      <td>4</td>\n",
              "      <td>305.433484</td>\n",
              "    </tr>\n",
              "    <tr>\n",
              "      <th>4</th>\n",
              "      <td>7</td>\n",
              "      <td>237.311045</td>\n",
              "    </tr>\n",
              "  </tbody>\n",
              "</table>\n",
              "</div>"
            ],
            "text/plain": [
              "   round    distance\n",
              "0      1  348.848132\n",
              "1      2  330.702183\n",
              "2      3  317.857607\n",
              "3      4  305.433484\n",
              "4      7  237.311045"
            ]
          },
          "execution_count": 18,
          "metadata": {},
          "output_type": "execute_result"
        }
      ],
      "source": [
        "import numpy as np\n",
        "\n",
        "def random_search(Cities,D,max_it):\n",
        "    \"\"\"\n",
        "    Finds a solution of TSP using random search.\n",
        "\n",
        "    Arguments:\n",
        "    ----------\n",
        "    Cities : List of points (x,y).\n",
        "    D: Pre-computed distance matrix.\n",
        "    max_it: Maximum number of iterations.\n",
        "\n",
        "    Returns:\n",
        "    --------\n",
        "    - Best candidate Trip\n",
        "    - Best candidate round found\n",
        "    - Data frame with round number and distance\n",
        "\n",
        "    \"\"\"\n",
        "\n",
        "    # Create root for permutations\n",
        "    root = list(range(1,len(Cities)))\n",
        "    # Start with a random permutation\n",
        "    rperm = np.random.permutation(root)\n",
        "    # Add the first node at both ends\n",
        "    best = [0] + list(rperm) + [0]\n",
        "    # Compute distance\n",
        "    best_dist = compute_distance(best,D)\n",
        "\n",
        "    # List for storing information for the df\n",
        "    info = [[1,best_dist]]\n",
        "\n",
        "    for i in range(2,max_it):\n",
        "        rperm = np.random.permutation(root)\n",
        "        cand = [0] + list(rperm) + [0]\n",
        "        d = compute_distance(cand,D)\n",
        "\n",
        "        if d < best_dist:\n",
        "            best = cand\n",
        "            best_dist = d\n",
        "            # Append information when better candidate found\n",
        "            info.append([i,best_dist])\n",
        "\n",
        "    df = pd.DataFrame(info, columns=[\"round\",\"distance\"])\n",
        "    # Get the last round where best candidate appear\n",
        "    best_round = info[-1][0]\n",
        "    return(best,best_round,df)\n",
        "\n",
        "# Run the function\n",
        "sol_ran,sol_round_ran,df_ran = random_search(Cities,D,5000)\n",
        "# Print the candidate\n",
        "print(\"Random search candidate (round \" + str(sol_round_ran) + \"): \" + ' '.join(str(sol_ran)))\n",
        "# Show first candidates distance\n",
        "df_ran"
      ]
    },
    {
      "cell_type": "markdown",
      "metadata": {
        "id": "t3T6l5mXe6xD"
      },
      "source": [
        "Let's see whether the solution makes sense."
      ]
    },
    {
      "cell_type": "code",
      "execution_count": null,
      "metadata": {
        "id": "ZzWHE0Ooe6xD",
        "outputId": "123cd48f-9490-476b-d851-b3135018b1d1"
      },
      "outputs": [
        {
          "data": {
            "image/png": "[encoded data removed]",
            "text/plain": [
              "<Figure size 432x432 with 1 Axes>"
            ]
          },
          "metadata": {
            "needs_background": "light"
          },
          "output_type": "display_data"
        }
      ],
      "source": [
        "# Get values from df_rsearch\n",
        "distance = df_ran.tail(1)[\"distance\"].values[0]\n",
        "# Generate title text\n",
        "text = \"TSP-\" + str(len(Cities)) + \"  candidate: \" + str(sol_round_ran) + \"  distance: \" + str(np.round(distance,2))\n",
        "# Use plot_TSP()\n",
        "plot_TSP(Cities=Cities, Trip=sol_ran, title=text)"
      ]
    },
    {
      "cell_type": "markdown",
      "metadata": {
        "id": "FV79bwYie6xD"
      },
      "source": [
        "It does, but this algorithm has taken many more rounds to find the solution in this case. Also, bear in mind that the result above will change if you re-run the code given its random nature. It can even provide a sub-optimal solution many of the times. Of course, the more cities we generate, the worse the solutions will be, or conversely, the longer it will take to find a the solution."
      ]
    },
    {
      "cell_type": "markdown",
      "metadata": {
        "id": "2PsgiQs0e6xE"
      },
      "source": [
        "<div class=\"alert alert-block alert-info\"><b>Exercise 3:</b><br>Study how the algorithms \"Breadth-first search\", \"Depth-first search\" and \"Random search\" perform in terms of finding the best solution and the execution time. To do so, study TSP with different number of Ncities from 4 to 10. For each Ncities value, generate 50 different TSPs and run all three algorithms for each case. In each algorithm execution measure the execution time and which algorithm has found the shortest trip. For each Ncities value provide the number of times each algorithm has found the shortest path and the average execution time. In case of ties between algorithms account consider the winners all two or all three. Finally, provide the results in a data frame and think about the results. Which is the faster algorithm? Which is the most accurate one? What happens when we increase the number of cities?<br><br><i>Hint: You can easily calculate the execution time using the function time() of the python package \"time\". Checkout <a href=\"https://stackoverflow.com/questions/7370801/how-to-measure-elapsed-time-in-python\">this useful example</a> from Stackoverflow.</i></div>"
      ]
    },
    {
      "cell_type": "code",
      "execution_count": null,
      "metadata": {
        "id": "OJeT3dWJe6xE"
      },
      "outputs": [],
      "source": [
        "### EXERCISE 3 SOLUTION ###\n"
      ]
    },
    {
      "cell_type": "code",
      "source": [
        "#lecturer solution\n"
      ],
      "metadata": {
        "id": "mW_d53Ykxyh_"
      },
      "execution_count": null,
      "outputs": []
    },
    {
      "cell_type": "markdown",
      "metadata": {
        "id": "JEjPDdUne6xE"
      },
      "source": [
        "Now, after having seen some numbers for depth-first search and random search algorithms, it is quite clear that finding \"the best\" solution becomes quickly an intractable problem as we increase the number of cities. This at the end is the nature of NP-hard problems. Is there anything we can do about or should we just give up and resign ourselves to explore all the options?\n",
        "\n",
        "Well, if our goal is still to find \"the best\" solution [there are algorithms](#Some-other-efficient-algorithms) that make this process more efficient. Instead, if what we are after is finding a solution that it is \"good enough\", then there is plenty of room to create algorithms based on arguments that produce good approximations. This way of working is called [heuristics](https://en.wikipedia.org/wiki/Heuristic) and our brain is constantly doing it. The next two searching algorithms are clear examples of that.\n",
        "\n",
        "## Greedy search\n",
        "---\n",
        "\n",
        "Before starting the search for each of the possible trips, we compute the distance matrix `D` that we then pass to our algorithms as an object that they use to compute the the actual distance of each candidate. This matrix contains useful information, that we can use in order to explore good candidates efficiently. Indeed, one could think that connecting neighbouring cities has a bigger chance to produce a low distance path than connecting far-away cities. This is precisely the idea behind the [greedy search](https://en.wikipedia.org/wiki/Greedy_algorithm), in each step the next city that we are going to add to our trip is the closest one that we haven't visited yet.\n",
        "\n",
        "Obtaining the distances to all nodes using the distance matrix is straightforward. In the example above, we can get all distances from the node 3 by just selecting the third row `D[3,]`. However, what we really need is to sort all nodes by its distance to the node 3, then pick the first one that we have not visited yet. The function `argsort()` from the `numpy` package is very convenient here, since it returns the indexes of the elements sorted by its value. For checking whether an element is not within list `not in` is the condition we need to put in the `if` statement.\n",
        "\n",
        "The greedy search is deterministic, which means that the candidate trip will always be the same provided a starting city. Thus, it makes a lot of sense to create a function that takes as an argument one of the cities as starting point and creates the only one possible trip based in the nearest neighbour rule."
      ]
    },
    {
      "cell_type": "code",
      "execution_count": null,
      "metadata": {
        "id": "WTT1F4iWe6xE",
        "outputId": "9a7f7a57-cb53-4b30-b90c-b3bfd00d5ad8"
      },
      "outputs": [
        {
          "data": {
            "image/png": "[encoded data removed]",
            "text/plain": [
              "<Figure size 432x432 with 1 Axes>"
            ]
          },
          "metadata": {
            "needs_background": "light"
          },
          "output_type": "display_data"
        }
      ],
      "source": [
        "def nearest_neighbour_trip(start, Cities, D):\n",
        "    \"\"\"\n",
        "    Finds the trip based on nearest neighbour.\n",
        "\n",
        "    Arguments:\n",
        "    ----------\n",
        "    start: Starting city.\n",
        "    Cities : List of points (x,y).\n",
        "    D: Pre-computed distance matrix.\n",
        "\n",
        "    Returns:\n",
        "    --------\n",
        "    List with trip sequence.\n",
        "    \"\"\"\n",
        "    # Create a list with visited cities with start in it\n",
        "    visited = [start]\n",
        "    # Pos variable will control the current city\n",
        "    current = start\n",
        "\n",
        "    # loop until we visit all cities\n",
        "    while len(visited) < len(Cities):\n",
        "        # Order cities by closeness to current city\n",
        "        sorted_idxs = np.argsort(D[current,])\n",
        "\n",
        "        #Loop through all those\n",
        "        for i in sorted_idxs:\n",
        "            # If the city is already visited skip to next\n",
        "            if i not in visited:\n",
        "                # Otherwise append this one to visited\n",
        "                visited.append(i)\n",
        "                # Set the current city to this one\n",
        "                current = i\n",
        "                # Exit the for loop and check from next city\n",
        "                break\n",
        "\n",
        "    # Add the start city to the end\n",
        "    visited = visited + [start]\n",
        "    return(visited)\n",
        "\n",
        "# Run the function for city 3\n",
        "Trip = nearest_neighbour_trip(3, Cities, D)\n",
        "d = compute_distance(Trip,D)\n",
        "plot_TSP(Cities=Cities, Trip=Trip, title=\"Greedy search starting in 3 (distance = \" + str(round(d,2)) + \" )\")"
      ]
    },
    {
      "cell_type": "markdown",
      "metadata": {
        "id": "7gyosOxAe6xE"
      },
      "source": [
        "As you can see above, the solution provided when starting from the node 3 is not optimal. In fact, the greedy search will normally produce a sub-optimal solution. However, the distance of the first candidate is already quite low compared with the distance of the first candidate in the other cases.\n",
        "\n",
        "Let's build the function that produces the all the greedy search candidates. To do so we only need to loop through all cities and use the `nearest_neighbour_trip()` we have coded above. Then, like in the other algorithms, we will keep the shortest one as the best candidate."
      ]
    },
    {
      "cell_type": "code",
      "execution_count": null,
      "metadata": {
        "id": "UlDr9_Foe6xE",
        "outputId": "deed3a72-dc42-4df9-c058-4373a2f547b4"
      },
      "outputs": [
        {
          "name": "stdout",
          "output_type": "stream",
          "text": [
            "Greedy search candidate (round 3): [ 2 ,   0 ,   1 ,   3 ,   4 ,   5 ,   6 ,   2 ]\n"
          ]
        },
        {
          "data": {
            "text/html": [
              "<div>\n",
              "<style scoped>\n",
              "    .dataframe tbody tr th:only-of-type {\n",
              "        vertical-align: middle;\n",
              "    }\n",
              "\n",
              "    .dataframe tbody tr th {\n",
              "        vertical-align: top;\n",
              "    }\n",
              "\n",
              "    .dataframe thead th {\n",
              "        text-align: right;\n",
              "    }\n",
              "</style>\n",
              "<table border=\"1\" class=\"dataframe\">\n",
              "  <thead>\n",
              "    <tr style=\"text-align: right;\">\n",
              "      <th></th>\n",
              "      <th>round</th>\n",
              "      <th>distance</th>\n",
              "    </tr>\n",
              "  </thead>\n",
              "  <tbody>\n",
              "    <tr>\n",
              "      <th>0</th>\n",
              "      <td>1</td>\n",
              "      <td>253.847171</td>\n",
              "    </tr>\n",
              "    <tr>\n",
              "      <th>1</th>\n",
              "      <td>2</td>\n",
              "      <td>253.847171</td>\n",
              "    </tr>\n",
              "    <tr>\n",
              "      <th>2</th>\n",
              "      <td>3</td>\n",
              "      <td>237.311045</td>\n",
              "    </tr>\n",
              "    <tr>\n",
              "      <th>3</th>\n",
              "      <td>4</td>\n",
              "      <td>237.311045</td>\n",
              "    </tr>\n",
              "    <tr>\n",
              "      <th>4</th>\n",
              "      <td>5</td>\n",
              "      <td>237.311045</td>\n",
              "    </tr>\n",
              "    <tr>\n",
              "      <th>5</th>\n",
              "      <td>6</td>\n",
              "      <td>237.311045</td>\n",
              "    </tr>\n",
              "    <tr>\n",
              "      <th>6</th>\n",
              "      <td>7</td>\n",
              "      <td>237.311045</td>\n",
              "    </tr>\n",
              "  </tbody>\n",
              "</table>\n",
              "</div>"
            ],
            "text/plain": [
              "   round    distance\n",
              "0      1  253.847171\n",
              "1      2  253.847171\n",
              "2      3  237.311045\n",
              "3      4  237.311045\n",
              "4      5  237.311045\n",
              "5      6  237.311045\n",
              "6      7  237.311045"
            ]
          },
          "execution_count": 22,
          "metadata": {},
          "output_type": "execute_result"
        }
      ],
      "source": [
        "def greedy_search(Cities, D):\n",
        "    \"\"\"\n",
        "    Finds a solution of TSP using greedy search.\n",
        "\n",
        "    Arguments:\n",
        "    ----------\n",
        "    Cities : List of points (x,y).\n",
        "    D: Pre-computed distance matrix.\n",
        "    max_it: Maximum number of iterations.\n",
        "    between samples.\n",
        "\n",
        "    Returns:\n",
        "    --------\n",
        "    - Best candidate Trip\n",
        "    - Best candidate round found\n",
        "    - Data frame with round number and distance\n",
        "\n",
        "    \"\"\"\n",
        "\n",
        "    # Compute distance\n",
        "    cand_dist = 0\n",
        "\n",
        "    dist = []\n",
        "\n",
        "    # Candidate round\n",
        "    cand_round = 1\n",
        "\n",
        "    for i in range(len(Cities)):\n",
        "        # Get starting city\n",
        "        start = i\n",
        "        # Get the NN-Trip\n",
        "        Trip = nearest_neighbour_trip(start, Cities, D)\n",
        "        # Compute the distance\n",
        "        d = compute_distance(Trip,D)\n",
        "        # If distance is best or i is first iteration\n",
        "        if d < cand_dist or cand_dist == 0:\n",
        "            cand = Trip\n",
        "            cand_dist = d\n",
        "            cand_round = i + 1\n",
        "\n",
        "        dist.append(cand_dist)\n",
        "\n",
        "    df = pd.DataFrame({'round':np.arange(len(Cities)) + 1, 'distance':dist})\n",
        "    return(cand,cand_round,df)\n",
        "\n",
        "# Run the function\n",
        "sol,sol_round,df_greedy_search = greedy_search(Cities=Cities,D=D)\n",
        "# Print the candidate\n",
        "print(\"Greedy search candidate (round \" + str(sol_round) + \"): \" + ' '.join(str(sol)))\n",
        "# Show first candidates distance\n",
        "df_greedy_search.head(10)"
      ]
    },
    {
      "cell_type": "markdown",
      "metadata": {
        "id": "lMIxqGC0e6xE"
      },
      "source": [
        "With this specific TSP configuration we eventually reach the optimal solution with the greedy search. However, you can test yourselves that this is not always the case if you just shuffle the cities again, or you increase the number of cities. Another remarkable weakness is the limited amount of candidates generated, which is equal to the number of cities - one per starting point. Such a limited set of options is probably not the best tool to find the best solution, but it definitely excels finding a good candidate relatively quickly."
      ]
    },
    {
      "cell_type": "markdown",
      "metadata": {
        "id": "V29wQVV1e6xF"
      },
      "source": [
        "## 2-opt algorithm\n",
        "---\n",
        "\n",
        "Another set of algorithms consists in finding a way to improve a candidate, rather than finding it from scratch. This is the case of the [2-opt algorithm](https://en.wikipedia.org/wiki/2-opt) whose main point is to swap edges of an already provided solution. The intuitive mechanism of this search is that removes the crossings between edges, which tends to reduce the distance significantly. For example, let's consider the Trip below:"
      ]
    },
    {
      "cell_type": "code",
      "execution_count": null,
      "metadata": {
        "id": "UksNd9wGe6xF",
        "outputId": "b85efb79-b729-4d6a-aba2-688a50f05fec"
      },
      "outputs": [
        {
          "data": {
            "image/png": "[encoded data removed]",
            "text/plain": [
              "<Figure size 432x432 with 1 Axes>"
            ]
          },
          "metadata": {
            "needs_background": "light"
          },
          "output_type": "display_data"
        }
      ],
      "source": [
        "# Candidate solution\n",
        "Trip = [2, 0, 5, 4, 3, 1, 6, 2]\n",
        "d = compute_distance(Trip,D)\n",
        "text = \"Before swapping edges (distance = \" + str(round(d,2)) + \")\"\n",
        "plot_TSP(Cities=Cities, Trip=Trip, title=text)"
      ]
    },
    {
      "cell_type": "markdown",
      "metadata": {
        "id": "nl1XFteEe6xF"
      },
      "source": [
        "It's quite clear that the solution could be improved by removing the crossing between edges 0 &#8594; 5 and 1 &#8594; 6. Note that removing those edges and then reconnecting them, such that 0 &#8594; 1 and 5 &#8594; 6, also implies reversing the direction of the segment 5 &#8594; 4 &#8594; 3 &#8594; 1. To make this swapping simple we can write a function `edge_swap()` that uses the position of the cities the edges are pointing to in the `Trip` variable, which in our particular case (cities 5 and 6) is 2nd and 6th respectively."
      ]
    },
    {
      "cell_type": "code",
      "execution_count": null,
      "metadata": {
        "id": "m1qf5rAae6xF",
        "outputId": "1dfdb0a3-fe5b-498a-934f-35c6e459a403"
      },
      "outputs": [
        {
          "data": {
            "image/png": "[encoded data removed]",
            "text/plain": [
              "<Figure size 432x432 with 1 Axes>"
            ]
          },
          "metadata": {
            "needs_background": "light"
          },
          "output_type": "display_data"
        }
      ],
      "source": [
        "def edge_swap(Trip, i, j):\n",
        "    \"\"\"\n",
        "    Swaps edges into nodes i and j of a TSP closed trip.\n",
        "\n",
        "    Arguments:\n",
        "    ----------\n",
        "    Trip : List with the ordered sequence of cities.\n",
        "    i: ith position of the destination node in Trip.\n",
        "    j: jth position of the destination node in Trip.\n",
        "\n",
        "    Returns:\n",
        "    --------\n",
        "    New Trip with edges swapped\n",
        "\n",
        "    \"\"\"\n",
        "    # Copy the old Trip\n",
        "    newTrip = Trip[:]\n",
        "    # Reverse the order of the segment from i to j\n",
        "    newTrip[i:j] = Trip[j-1:i-1:-1]\n",
        "    return newTrip;\n",
        "\n",
        "newTrip = edge_swap(Trip, 2, 6)\n",
        "d = compute_distance(newTrip,D)\n",
        "text = \"After swapping edges (distance = \" + str(round(d,2)) + \")\"\n",
        "plot_TSP(Cities=Cities, Trip=newTrip, title=text)"
      ]
    },
    {
      "cell_type": "markdown",
      "metadata": {
        "id": "8HAj8zwFe6xF"
      },
      "source": [
        "As you can see above, this function has successfully swapped the mentioned edges and returned the optimal solution 2 &#8594; 0 &#8594; 1 &#8594; 3 &#8594; 4 &#8594; 5 &#8594; 6 &#8594; 2. Of course, it could still happen that there are many more crossings in our path. Therefore, we need to scan all edges keeping only the configuration when that reduces the overall distance. Visiting all edges just once, might not be enough with still some room to optimise our configuration further. The 2-opt algorithm sweeps all edges several times until the configuration does not longer improve."
      ]
    },
    {
      "cell_type": "code",
      "execution_count": null,
      "metadata": {
        "id": "_YoZOj6De6xF",
        "outputId": "d88ea28a-d9ac-4dcb-eed0-48cef1a58177"
      },
      "outputs": [
        {
          "name": "stdout",
          "output_type": "stream",
          "text": [
            "<built-in function len>\n",
            "2-opt search candidate (round 61): [ 0 ,   2 ,   6 ,   5 ,   4 ,   3 ,   1 ,   0 ]\n"
          ]
        },
        {
          "data": {
            "text/html": [
              "<div>\n",
              "<style scoped>\n",
              "    .dataframe tbody tr th:only-of-type {\n",
              "        vertical-align: middle;\n",
              "    }\n",
              "\n",
              "    .dataframe tbody tr th {\n",
              "        vertical-align: top;\n",
              "    }\n",
              "\n",
              "    .dataframe thead th {\n",
              "        text-align: right;\n",
              "    }\n",
              "</style>\n",
              "<table border=\"1\" class=\"dataframe\">\n",
              "  <thead>\n",
              "    <tr style=\"text-align: right;\">\n",
              "      <th></th>\n",
              "      <th>round</th>\n",
              "      <th>distance</th>\n",
              "    </tr>\n",
              "  </thead>\n",
              "  <tbody>\n",
              "    <tr>\n",
              "      <th>0</th>\n",
              "      <td>1</td>\n",
              "      <td>362.536827</td>\n",
              "    </tr>\n",
              "    <tr>\n",
              "      <th>1</th>\n",
              "      <td>2</td>\n",
              "      <td>362.536827</td>\n",
              "    </tr>\n",
              "    <tr>\n",
              "      <th>2</th>\n",
              "      <td>3</td>\n",
              "      <td>336.491616</td>\n",
              "    </tr>\n",
              "    <tr>\n",
              "      <th>3</th>\n",
              "      <td>4</td>\n",
              "      <td>319.955490</td>\n",
              "    </tr>\n",
              "    <tr>\n",
              "      <th>4</th>\n",
              "      <td>5</td>\n",
              "      <td>283.633097</td>\n",
              "    </tr>\n",
              "    <tr>\n",
              "      <th>5</th>\n",
              "      <td>6</td>\n",
              "      <td>283.633097</td>\n",
              "    </tr>\n",
              "    <tr>\n",
              "      <th>6</th>\n",
              "      <td>7</td>\n",
              "      <td>283.633097</td>\n",
              "    </tr>\n",
              "    <tr>\n",
              "      <th>7</th>\n",
              "      <td>8</td>\n",
              "      <td>283.633097</td>\n",
              "    </tr>\n",
              "    <tr>\n",
              "      <th>8</th>\n",
              "      <td>9</td>\n",
              "      <td>281.655533</td>\n",
              "    </tr>\n",
              "    <tr>\n",
              "      <th>9</th>\n",
              "      <td>10</td>\n",
              "      <td>274.291770</td>\n",
              "    </tr>\n",
              "  </tbody>\n",
              "</table>\n",
              "</div>"
            ],
            "text/plain": [
              "   round    distance\n",
              "0      1  362.536827\n",
              "1      2  362.536827\n",
              "2      3  336.491616\n",
              "3      4  319.955490\n",
              "4      5  283.633097\n",
              "5      6  283.633097\n",
              "6      7  283.633097\n",
              "7      8  283.633097\n",
              "8      9  281.655533\n",
              "9     10  274.291770"
            ]
          },
          "execution_count": 25,
          "metadata": {},
          "output_type": "execute_result"
        }
      ],
      "source": [
        "def two_opt_search(Cities, D, max_it=10000):\n",
        "    \"\"\"\n",
        "    Finds a solution of TSP using 2-opt algorithm.\n",
        "\n",
        "    Arguments:\n",
        "    ----------\n",
        "    Cities : List of points (x,y).\n",
        "    D: Pre-computed distance matrix.\n",
        "    max_it: Maximum number of iterations.\n",
        "\n",
        "    Returns:\n",
        "    --------\n",
        "    - Best candidate Trip\n",
        "    - Best candidate round found\n",
        "    - Data frame with round number and distance\n",
        "\n",
        "    \"\"\"\n",
        "\n",
        "    # Create root for permutations\n",
        "    root = list(range(1,len(Cities)))\n",
        "    # Start with a random permutation\n",
        "    rperm = np.random.permutation(root)\n",
        "    # Add the first node at both ends\n",
        "    cand = [0] + list(rperm) + [0]\n",
        "    # Compute distance\n",
        "    cand_dist = compute_distance(cand,D)\n",
        "\n",
        "    dist = [cand_dist]\n",
        "\n",
        "    # Candidate round\n",
        "    cand_round = 1\n",
        "\n",
        "    improvement = True\n",
        "    while improvement:\n",
        "        improvement = False\n",
        "        for i in range(1, len(Cities)-1):\n",
        "            for j in range(i + 1, len(Cities) + 1):\n",
        "                if j-i == 1:\n",
        "                    continue # Do not swap for consecutive cites\n",
        "\n",
        "                cand_round += 1 # Add one round for each swap\n",
        "                newTrip = edge_swap(cand, i, j)\n",
        "                d = compute_distance(newTrip,D)\n",
        "                if d < cand_dist:\n",
        "                    cand = newTrip\n",
        "                    cand_dist = d\n",
        "                    improvement = True\n",
        "\n",
        "                dist.append(cand_dist)\n",
        "\n",
        "\n",
        "    print(len)\n",
        "    df = pd.DataFrame({'round':np.arange(1,len(dist)+1), 'distance':dist})\n",
        "    return(cand,cand_round,df)\n",
        "\n",
        "# Run the function\n",
        "sol,sol_round,df_twoopt_search = two_opt_search(Cities=Cities,D=D)\n",
        "# Print the candidate\n",
        "print(\"2-opt search candidate (round \" + str(sol_round) + \"): \" + ' '.join(str(sol)))\n",
        "# Show first candidates distance\n",
        "df_twoopt_search.head(10)"
      ]
    },
    {
      "cell_type": "markdown",
      "metadata": {
        "id": "Vqn6MJMNe6xF"
      },
      "source": [
        "## Some other efficient algorithms\n",
        "---\n",
        "\n",
        "Network theory has also developed methodologies that are very useful for this problem, considering that each city as nodes and the distance matrix an equivalent of the adjacency matrix, creating thus a weighted network. The [Minimum Spanning Tree (MST)](https://en.wikipedia.org/wiki/Minimum_spanning_tree) is the graph that connects, without cycles, all vertices of the network whose weight (euclidean distances in our case) is minimum. The use of the MST is central in the so-called [Christofides-Serdyukov algorithm](https://en.wikipedia.org/wiki/Christofides_algorithm), watch [this video](https://www.youtube.com/watch?v=xN9ZtYzPewg) for a good explanation. This algorithm guarantees that its proposed solutions are never going to be 1.5 longer that the optimal solution, which makes it a very good system to find good approximations in a quick way. You can find its implementation in Python in [this](https://github.com/MUSoC/Visualization-of-popular-algorithms-in-Python/tree/master/Travelling%20Salesman%20Problem) GitHub repository.\n",
        "\n",
        "The most efficient general solution proposed so far is the [Held-Karp algorithm](https://en.wikipedia.org/wiki/Held%E2%80%93Karp_algorithm) proposed by Michael Held and Richard Karp in 1962. This algorithm uses [dynamic programming](https://en.wikipedia.org/wiki/Dynamic_programming), which is a method that consists in breaking down the big problem in several recursive sub-problems. This allows identifying some repeated sub-problems, and only compute the answer once for those cases. [This video](https://www.youtube.com/watch?v=_51ot-Ri0ng) beautifully explains how this algorithm works and why has the lowest computation complexity known so far for solving the TSP problem: $O(n^2 \\times 2^n)$"
      ]
    },
    {
      "cell_type": "markdown",
      "metadata": {
        "id": "iVnTWh5Ye6xG"
      },
      "source": [
        "<div class=\"alert alert-block alert-info\"><b>Exercise 4 (Optional):</b><br>Performing an A* search in the TSP problem is not straight forward. Remember that we need to define an overall measure f(n)=g(n)+h(n) to minimize, where g(n) is the edge cost, as in the greedy search, and h(n) is an heuristic measure that is tipically related to the nodes. Note that here we cannot simply use the <a href=\"https://en.wikipedia.org/wiki/Dijkstra%27s_algorithm\"> Dijkstra's algorithm</a> for h(n), because we do not want to know the shortest route between A and B but the shortest route <i>that passes through all nodes</i>. However, there is still a valid heuristic measure for h(n) that we can use: That is the Minimum Spanning Tree distance of all unvisited nodes + the nearest distance from any unvisited node to the start.<br><br>Knowing all this information, could you implement the A* search version for the TSP?<br><br><i>Hint: You can adapt the nearest_neighbour_trip() function to sort the index according to the f(n) measure defined below, rather than just g(n) (edge cost). For computing the Minnimum Spanning Tree you can use <a href=\"https://docs.scipy.org/doc/scipy/reference/generated/scipy.sparse.csgraph.minimum_spanning_tree.html\">this function from scipy</a>.Note that the overall distance is just the sum of all the elements of the matrix.</i></div>"
      ]
    },
    {
      "cell_type": "code",
      "execution_count": null,
      "metadata": {
        "id": "J0VvMnNDe6xG"
      },
      "outputs": [],
      "source": [
        "### EXERCISE 4 SOLUTION ###\n",
        "\n"
      ]
    },
    {
      "cell_type": "markdown",
      "metadata": {
        "id": "wMc2KwJ-e6xG"
      },
      "source": [
        "---\n",
        "<div style=\"text-align: right ;font-size: small; color: gray\"> Notebook by <a href=\"http://mariogutierrezroig.net\">Mario Gutiérrez-Roig</a>, Lecturer in Data Science and Statistics at the University of Essex <a href=\"http://creativecommons.org/licenses/by-sa/4.0/\" rel=\"license\"><img src=\"https://i.creativecommons.org/l/by-sa/4.0/88x31.png\" alt=\"Licencia de Creative Commons\" hspace=\"10\" align=\"right\"></a></div>"
      ]
    }
  ],
  "metadata": {
    "kernelspec": {
      "display_name": "Python 3 (ipykernel)",
      "language": "python",
      "name": "python3"
    },
    "language_info": {
      "codemirror_mode": {
        "name": "ipython",
        "version": 3
      },
      "file_extension": ".py",
      "mimetype": "text/x-python",
      "name": "python",
      "nbconvert_exporter": "python",
      "pygments_lexer": "ipython3",
      "version": "3.8.13"
    },
    "colab": {
      "provenance": []
    }
  },
  "nbformat": 4,
  "nbformat_minor": 0
}